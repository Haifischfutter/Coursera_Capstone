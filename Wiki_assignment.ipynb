{
 "cells": [
  {
   "cell_type": "code",
   "execution_count": 1,
   "metadata": {},
   "outputs": [],
   "source": [
    "from bs4 import BeautifulSoup as BSp\n",
    "import lxml\n",
    "#import html5lib alternative to lxml\n",
    "import requests\n",
    "import pandas as pd"
   ]
  },
  {
   "cell_type": "markdown",
   "metadata": {},
   "source": [
    "### 1. Get text from wikipedia website for scraping"
   ]
  },
  {
   "cell_type": "code",
   "execution_count": 2,
   "metadata": {},
   "outputs": [],
   "source": [
    "#from html file for offline work\n",
    "#with open('Cantest.html') as file:\n",
    "#    soup = BSp(file,'lxml')\n",
    "\n",
    "\n",
    "#from URL\n",
    "URL = 'https://en.wikipedia.org/wiki/List_of_postal_codes_of_Canada:_M'\n",
    "source = requests.get(URL).text\n",
    "soup = BSp(source, 'lxml')\n",
    "#print(soup.prettify())"
   ]
  },
  {
   "cell_type": "markdown",
   "metadata": {},
   "source": [
    "### 2. Scraping\n",
    "- find table\n",
    "- extract all rows\n",
    "- produce a clean list through spliting and slicing"
   ]
  },
  {
   "cell_type": "code",
   "execution_count": 3,
   "metadata": {
    "scrolled": true
   },
   "outputs": [
    {
     "data": {
      "text/plain": [
       "\"\\nPostcode\\nBorough\\nNeighbourhood\\n\\n\\nM1A\\nNot assigned\\nNot assigned\\n\\n\\nM2A\\nNot assigned\\nNot assigned\\n\\n\\nM3A\\nNorth York\\nParkwoods\\n\\n\\nM4A\\nNorth York\\nVictoria Village\\n\\n\\nM5A\\nDowntown Toronto\\nHarbourfront\\n\\n\\nM5A\\nDowntown Toronto\\nRegent Park\\n\\n\\nM6A\\nNorth York\\nLawrence Heights\\n\\n\\nM6A\\nNorth York\\nLawrence Manor\\n\\n\\nM7A\\nQueen's Park\\nNot assigned\\n\\n\\nM8A\\nNot assigned\\nNot assigned\\n\\n\\nM9A\\nEtobicoke\\nIslington Avenue\\n\\n\\nM1B\\nScarborough\\nRouge\\n\\n\\nM1B\\nScarborough\\nMalvern\\n\\n\\nM2B\\nNot assigned\\nNot assigned\\n\\n\\nM3B\\nNorth York\\nDon Mills North\\n\\n\\nM4B\\nEast York\\nWoodbine Gardens\\n\\n\\nM4B\\nEast York\\nParkview Hill\\n\\n\\nM5B\\nDowntown Toronto\\nRyerson\\n\\n\\nM5B\\nDowntown Toronto\\nGarden District\\n\\n\\nM6B\\nNorth York\\nGlencairn\\n\\n\\nM7B\\nNot assigned\\nNot assigned\\n\\n\\nM8B\\nNot assigned\\nNot assigned\\n\\n\\nM9B\\nEtobicoke\\nCloverdale\\n\\n\\nM9B\\nEtobicoke\\nIslington\\n\\n\\nM9B\\nEtobicoke\\nMartin Grove\\n\\n\\nM9B\\nEtobicoke\\nPrincess Gardens\\n\\n\\nM9B\\nEtobicoke\\nWest Deane Park\\n\\n\\nM1C\\nScarborough\\nHighland Creek\\n\\n\\nM1C\\nScarborough\\nRouge Hill\\n\\n\\nM1C\\nScarborough\\nPort Union\\n\\n\\nM2C\\nNot assigned\\nNot assigned\\n\\n\\nM3C\\nNorth York\\nFlemingdon Park\\n\\n\\nM3C\\nNorth York\\nDon Mills South\\n\\n\\nM4C\\nEast York\\nWoodbine Heights\\n\\n\\nM5C\\nDowntown Toronto\\nSt. James Town\\n\\n\\nM6C\\nYork\\nHumewood-Cedarvale\\n\\n\\nM7C\\nNot assigned\\nNot assigned\\n\\n\\nM8C\\nNot assigned\\nNot assigned\\n\\n\\nM9C\\nEtobicoke\\nBloordale Gardens\\n\\n\\nM9C\\nEtobicoke\\nEringate\\n\\n\\nM9C\\nEtobicoke\\nMarkland Wood\\n\\n\\nM9C\\nEtobicoke\\nOld Burnhamthorpe\\n\\n\\nM1E\\nScarborough\\nGuildwood\\n\\n\\nM1E\\nScarborough\\nMorningside\\n\\n\\nM1E\\nScarborough\\nWest Hill\\n\\n\\nM2E\\nNot assigned\\nNot assigned\\n\\n\\nM3E\\nNot assigned\\nNot assigned\\n\\n\\nM4E\\nEast Toronto\\nThe Beaches\\n\\n\\nM5E\\nDowntown Toronto\\nBerczy Park\\n\\n\\nM6E\\nYork\\nCaledonia-Fairbanks\\n\\n\\nM7E\\nNot assigned\\nNot assigned\\n\\n\\nM8E\\nNot assigned\\nNot assigned\\n\\n\\nM9E\\nNot assigned\\nNot assigned\\n\\n\\nM1G\\nScarborough\\nWoburn\\n\\n\\nM2G\\nNot assigned\\nNot assigned\\n\\n\\nM3G\\nNot assigned\\nNot assigned\\n\\n\\nM4G\\nEast York\\nLeaside\\n\\n\\nM5G\\nDowntown Toronto\\nCentral Bay Street\\n\\n\\nM6G\\nDowntown Toronto\\nChristie\\n\\n\\nM7G\\nNot assigned\\nNot assigned\\n\\n\\nM8G\\nNot assigned\\nNot assigned\\n\\n\\nM9G\\nNot assigned\\nNot assigned\\n\\n\\nM1H\\nScarborough\\nCedarbrae\\n\\n\\nM2H\\nNorth York\\nHillcrest Village\\n\\n\\nM3H\\nNorth York\\nBathurst Manor\\n\\n\\nM3H\\nNorth York\\nDownsview North\\n\\n\\nM3H\\nNorth York\\nWilson Heights\\n\\n\\nM4H\\nEast York\\nThorncliffe Park\\n\\n\\nM5H\\nDowntown Toronto\\nAdelaide\\n\\n\\nM5H\\nDowntown Toronto\\nKing\\n\\n\\nM5H\\nDowntown Toronto\\nRichmond\\n\\n\\nM6H\\nWest Toronto\\nDovercourt Village\\n\\n\\nM6H\\nWest Toronto\\nDufferin\\n\\n\\nM7H\\nNot assigned\\nNot assigned\\n\\n\\nM8H\\nNot assigned\\nNot assigned\\n\\n\\nM9H\\nNot assigned\\nNot assigned\\n\\n\\nM1J\\nScarborough\\nScarborough Village\\n\\n\\nM2J\\nNorth York\\nFairview\\n\\n\\nM2J\\nNorth York\\nHenry Farm\\n\\n\\nM2J\\nNorth York\\nOriole\\n\\n\\nM3J\\nNorth York\\nNorthwood Park\\n\\n\\nM3J\\nNorth York\\nYork University\\n\\n\\nM4J\\nEast York\\nEast Toronto\\n\\n\\nM5J\\nDowntown Toronto\\nHarbourfront East\\n\\n\\nM5J\\nDowntown Toronto\\nToronto Islands\\n\\n\\nM5J\\nDowntown Toronto\\nUnion Station\\n\\n\\nM6J\\nWest Toronto\\nLittle Portugal\\n\\n\\nM6J\\nWest Toronto\\nTrinity\\n\\n\\nM7J\\nNot assigned\\nNot assigned\\n\\n\\nM8J\\nNot assigned\\nNot assigned\\n\\n\\nM9J\\nNot assigned\\nNot assigned\\n\\n\\nM1K\\nScarborough\\nEast Birchmount Park\\n\\n\\nM1K\\nScarborough\\nIonview\\n\\n\\nM1K\\nScarborough\\nKennedy Park\\n\\n\\nM2K\\nNorth York\\nBayview Village\\n\\n\\nM3K\\nNorth York\\nCFB Toronto\\n\\n\\nM3K\\nNorth York\\nDownsview East\\n\\n\\nM4K\\nEast Toronto\\nThe Danforth West\\n\\n\\nM4K\\nEast Toronto\\nRiverdale\\n\\n\\nM5K\\nDowntown Toronto\\nDesign Exchange\\n\\n\\nM5K\\nDowntown Toronto\\nToronto Dominion Centre\\n\\n\\nM6K\\nWest Toronto\\nBrockton\\n\\n\\nM6K\\nWest Toronto\\nExhibition Place\\n\\n\\nM6K\\nWest Toronto\\nParkdale Village\\n\\n\\nM7K\\nNot assigned\\nNot assigned\\n\\n\\nM8K\\nNot assigned\\nNot assigned\\n\\n\\nM9K\\nNot assigned\\nNot assigned\\n\\n\\nM1L\\nScarborough\\nClairlea\\n\\n\\nM1L\\nScarborough\\nGolden Mile\\n\\n\\nM1L\\nScarborough\\nOakridge\\n\\n\\nM2L\\nNorth York\\nSilver Hills\\n\\n\\nM2L\\nNorth York\\nYork Mills\\n\\n\\nM3L\\nNorth York\\nDownsview West\\n\\n\\nM4L\\nEast Toronto\\nThe Beaches West\\n\\n\\nM4L\\nEast Toronto\\nIndia Bazaar\\n\\n\\nM5L\\nDowntown Toronto\\nCommerce Court\\n\\n\\nM5L\\nDowntown Toronto\\nVictoria Hotel\\n\\n\\nM6L\\nNorth York\\nDownsview\\n\\n\\nM6L\\nNorth York\\nNorth Park\\n\\n\\nM6L\\nNorth York\\nUpwood Park\\n\\n\\nM7L\\nNot assigned\\nNot assigned\\n\\n\\nM8L\\nNot assigned\\nNot assigned\\n\\n\\nM9L\\nNorth York\\nHumber Summit\\n\\n\\nM1M\\nScarborough\\nCliffcrest\\n\\n\\nM1M\\nScarborough\\nCliffside\\n\\n\\nM1M\\nScarborough\\nScarborough Village West\\n\\n\\nM2M\\nNorth York\\nNewtonbrook\\n\\n\\nM2M\\nNorth York\\nWillowdale\\n\\n\\nM3M\\nNorth York\\nDownsview Central\\n\\n\\nM4M\\nEast Toronto\\nStudio District\\n\\n\\nM5M\\nNorth York\\nBedford Park\\n\\n\\nM5M\\nNorth York\\nLawrence Manor East\\n\\n\\nM6M\\nYork\\nDel Ray\\n\\n\\nM6M\\nYork\\nKeelesdale\\n\\n\\nM6M\\nYork\\nMount Dennis\\n\\n\\nM6M\\nYork\\nSilverthorn\\n\\n\\nM7M\\nNot assigned\\nNot assigned\\n\\n\\nM8M\\nNot assigned\\nNot assigned\\n\\n\\nM9M\\nNorth York\\nEmery\\n\\n\\nM9M\\nNorth York\\nHumberlea\\n\\n\\nM1N\\nScarborough\\nBirch Cliff\\n\\n\\nM1N\\nScarborough\\nCliffside West\\n\\n\\nM2N\\nNorth York\\nWillowdale South\\n\\n\\nM3N\\nNorth York\\nDownsview Northwest\\n\\n\\nM4N\\nCentral Toronto\\nLawrence Park\\n\\n\\nM5N\\nCentral Toronto\\nRoselawn\\n\\n\\nM6N\\nYork\\nThe Junction North\\n\\n\\nM6N\\nYork\\nRunnymede\\n\\n\\nM7N\\nNot assigned\\nNot assigned\\n\\n\\nM8N\\nNot assigned\\nNot assigned\\n\\n\\nM9N\\nYork\\nWeston\\n\\n\\nM1P\\nScarborough\\nDorset Park\\n\\n\\nM1P\\nScarborough\\nScarborough Town Centre\\n\\n\\nM1P\\nScarborough\\nWexford Heights\\n\\n\\nM2P\\nNorth York\\nYork Mills West\\n\\n\\nM3P\\nNot assigned\\nNot assigned\\n\\n\\nM4P\\nCentral Toronto\\nDavisville North\\n\\n\\nM5P\\nCentral Toronto\\nForest Hill North\\n\\n\\nM5P\\nCentral Toronto\\nForest Hill West\\n\\n\\nM6P\\nWest Toronto\\nHigh Park\\n\\n\\nM6P\\nWest Toronto\\nThe Junction South\\n\\n\\nM7P\\nNot assigned\\nNot assigned\\n\\n\\nM8P\\nNot assigned\\nNot assigned\\n\\n\\nM9P\\nEtobicoke\\nWestmount\\n\\n\\nM1R\\nScarborough\\nMaryvale\\n\\n\\nM1R\\nScarborough\\nWexford\\n\\n\\nM2R\\nNorth York\\nWillowdale West\\n\\n\\nM3R\\nNot assigned\\nNot assigned\\n\\n\\nM4R\\nCentral Toronto\\nNorth Toronto West\\n\\n\\nM5R\\nCentral Toronto\\nThe Annex\\n\\n\\nM5R\\nCentral Toronto\\nNorth Midtown\\n\\n\\nM5R\\nCentral Toronto\\nYorkville\\n\\n\\nM6R\\nWest Toronto\\nParkdale\\n\\n\\nM6R\\nWest Toronto\\nRoncesvalles\\n\\n\\nM7R\\nMississauga\\nCanada Post Gateway Processing Centre\\n\\n\\nM8R\\nNot assigned\\nNot assigned\\n\\n\\nM9R\\nEtobicoke\\nKingsview Village\\n\\n\\nM9R\\nEtobicoke\\nMartin Grove Gardens\\n\\n\\nM9R\\nEtobicoke\\nRichview Gardens\\n\\n\\nM9R\\nEtobicoke\\nSt. Phillips\\n\\n\\nM1S\\nScarborough\\nAgincourt\\n\\n\\nM2S\\nNot assigned\\nNot assigned\\n\\n\\nM3S\\nNot assigned\\nNot assigned\\n\\n\\nM4S\\nCentral Toronto\\nDavisville\\n\\n\\nM5S\\nDowntown Toronto\\nHarbord\\n\\n\\nM5S\\nDowntown Toronto\\nUniversity of Toronto\\n\\n\\nM6S\\nWest Toronto\\nRunnymede\\n\\n\\nM6S\\nWest Toronto\\nSwansea\\n\\n\\nM7S\\nNot assigned\\nNot assigned\\n\\n\\nM8S\\nNot assigned\\nNot assigned\\n\\n\\nM9S\\nNot assigned\\nNot assigned\\n\\n\\nM1T\\nScarborough\\nClarks Corners\\n\\n\\nM1T\\nScarborough\\nSullivan\\n\\n\\nM1T\\nScarborough\\nTam O'Shanter\\n\\n\\nM2T\\nNot assigned\\nNot assigned\\n\\n\\nM3T\\nNot assigned\\nNot assigned\\n\\n\\nM4T\\nCentral Toronto\\nMoore Park\\n\\n\\nM4T\\nCentral Toronto\\nSummerhill East\\n\\n\\nM5T\\nDowntown Toronto\\nChinatown\\n\\n\\nM5T\\nDowntown Toronto\\nGrange Park\\n\\n\\nM5T\\nDowntown Toronto\\nKensington Market\\n\\n\\nM6T\\nNot assigned\\nNot assigned\\n\\n\\nM7T\\nNot assigned\\nNot assigned\\n\\n\\nM8T\\nNot assigned\\nNot assigned\\n\\n\\nM9T\\nNot assigned\\nNot assigned\\n\\n\\nM1V\\nScarborough\\nAgincourt North\\n\\n\\nM1V\\nScarborough\\nL'Amoreaux East\\n\\n\\nM1V\\nScarborough\\nMilliken\\n\\n\\nM1V\\nScarborough\\nSteeles East\\n\\n\\nM2V\\nNot assigned\\nNot assigned\\n\\n\\nM3V\\nNot assigned\\nNot assigned\\n\\n\\nM4V\\nCentral Toronto\\nDeer Park\\n\\n\\nM4V\\nCentral Toronto\\nForest Hill SE\\n\\n\\nM4V\\nCentral Toronto\\nRathnelly\\n\\n\\nM4V\\nCentral Toronto\\nSouth Hill\\n\\n\\nM4V\\nCentral Toronto\\nSummerhill West\\n\\n\\nM5V\\nDowntown Toronto\\nCN Tower\\n\\n\\nM5V\\nDowntown Toronto\\nBathurst Quay\\n\\n\\nM5V\\nDowntown Toronto\\nIsland airport\\n\\n\\nM5V\\nDowntown Toronto\\nHarbourfront West\\n\\n\\nM5V\\nDowntown Toronto\\nKing and Spadina\\n\\n\\nM5V\\nDowntown Toronto\\nRailway Lands\\n\\n\\nM5V\\nDowntown Toronto\\nSouth Niagara\\n\\n\\nM6V\\nNot assigned\\nNot assigned\\n\\n\\nM7V\\nNot assigned\\nNot assigned\\n\\n\\nM8V\\nEtobicoke\\nHumber Bay Shores\\n\\n\\nM8V\\nEtobicoke\\nMimico South\\n\\n\\nM8V\\nEtobicoke\\nNew Toronto\\n\\n\\nM9V\\nEtobicoke\\nAlbion Gardens\\n\\n\\nM9V\\nEtobicoke\\nBeaumond Heights\\n\\n\\nM9V\\nEtobicoke\\nHumbergate\\n\\n\\nM9V\\nEtobicoke\\nJamestown\\n\\n\\nM9V\\nEtobicoke\\nMount Olive\\n\\n\\nM9V\\nEtobicoke\\nSilverstone\\n\\n\\nM9V\\nEtobicoke\\nSouth Steeles\\n\\n\\nM9V\\nEtobicoke\\nThistletown\\n\\n\\nM1W\\nScarborough\\nL'Amoreaux West\\n\\n\\nM2W\\nNot assigned\\nNot assigned\\n\\n\\nM3W\\nNot assigned\\nNot assigned\\n\\n\\nM4W\\nDowntown Toronto\\nRosedale\\n\\n\\nM5W\\nDowntown Toronto\\nStn A PO Boxes 25 The Esplanade\\n\\n\\nM6W\\nNot assigned\\nNot assigned\\n\\n\\nM7W\\nNot assigned\\nNot assigned\\n\\n\\nM8W\\nEtobicoke\\nAlderwood\\n\\n\\nM8W\\nEtobicoke\\nLong Branch\\n\\n\\nM9W\\nEtobicoke\\nNorthwest\\n\\n\\nM1X\\nScarborough\\nUpper Rouge\\n\\n\\nM2X\\nNot assigned\\nNot assigned\\n\\n\\nM3X\\nNot assigned\\nNot assigned\\n\\n\\nM4X\\nDowntown Toronto\\nCabbagetown\\n\\n\\nM4X\\nDowntown Toronto\\nSt. James Town\\n\\n\\nM5X\\nDowntown Toronto\\nFirst Canadian Place\\n\\n\\nM5X\\nDowntown Toronto\\nUnderground city\\n\\n\\nM6X\\nNot assigned\\nNot assigned\\n\\n\\nM7X\\nNot assigned\\nNot assigned\\n\\n\\nM8X\\nEtobicoke\\nThe Kingsway\\n\\n\\nM8X\\nEtobicoke\\nMontgomery Road\\n\\n\\nM8X\\nEtobicoke\\nOld Mill North\\n\\n\\nM9X\\nNot assigned\\nNot assigned\\n\\n\\nM1Y\\nNot assigned\\nNot assigned\\n\\n\\nM2Y\\nNot assigned\\nNot assigned\\n\\n\\nM3Y\\nNot assigned\\nNot assigned\\n\\n\\nM4Y\\nDowntown Toronto\\nChurch and Wellesley\\n\\n\\nM5Y\\nNot assigned\\nNot assigned\\n\\n\\nM6Y\\nNot assigned\\nNot assigned\\n\\n\\nM7Y\\nEast Toronto\\nBusiness Reply Mail Processing Centre 969 Eastern\\n\\n\\nM8Y\\nEtobicoke\\nHumber Bay\\n\\n\\nM8Y\\nEtobicoke\\nKing's Mill Park\\n\\n\\nM8Y\\nEtobicoke\\nKingsway Park South East\\n\\n\\nM8Y\\nEtobicoke\\nMimico NE\\n\\n\\nM8Y\\nEtobicoke\\nOld Mill South\\n\\n\\nM8Y\\nEtobicoke\\nThe Queensway East\\n\\n\\nM8Y\\nEtobicoke\\nRoyal York South East\\n\\n\\nM8Y\\nEtobicoke\\nSunnylea\\n\\n\\nM9Y\\nNot assigned\\nNot assigned\\n\\n\\nM1Z\\nNot assigned\\nNot assigned\\n\\n\\nM2Z\\nNot assigned\\nNot assigned\\n\\n\\nM3Z\\nNot assigned\\nNot assigned\\n\\n\\nM4Z\\nNot assigned\\nNot assigned\\n\\n\\nM5Z\\nNot assigned\\nNot assigned\\n\\n\\nM6Z\\nNot assigned\\nNot assigned\\n\\n\\nM7Z\\nNot assigned\\nNot assigned\\n\\n\\nM8Z\\nEtobicoke\\nKingsway Park South West\\n\\n\\nM8Z\\nEtobicoke\\nMimico NW\\n\\n\\nM8Z\\nEtobicoke\\nThe Queensway West\\n\\n\\nM8Z\\nEtobicoke\\nRoyal York South West\\n\\n\\nM8Z\\nEtobicoke\\nSouth of Bloor\\n\\n\\nM9Z\\nNot assigned\\nNot assigned\\n\\n\""
      ]
     },
     "execution_count": 3,
     "metadata": {},
     "output_type": "execute_result"
    }
   ],
   "source": [
    "#isolating table\n",
    "table = soup.find('table')\n",
    "rows = table.tbody.text\n",
    "rows"
   ]
  },
  {
   "cell_type": "code",
   "execution_count": 4,
   "metadata": {},
   "outputs": [],
   "source": [
    "# create list by spliting the string\n",
    "rowList = rows.split('\\n')\n",
    "\n",
    "# clean the list\n",
    "while '' in rowList:\n",
    "    rowList.remove('')\n",
    "\n",
    "#remove header\n",
    "rowList = rowList[3:]"
   ]
  },
  {
   "cell_type": "markdown",
   "metadata": {},
   "source": [
    "### 3. produce dataframe"
   ]
  },
  {
   "cell_type": "code",
   "execution_count": 5,
   "metadata": {},
   "outputs": [
    {
     "data": {
      "text/html": [
       "<div>\n",
       "<style scoped>\n",
       "    .dataframe tbody tr th:only-of-type {\n",
       "        vertical-align: middle;\n",
       "    }\n",
       "\n",
       "    .dataframe tbody tr th {\n",
       "        vertical-align: top;\n",
       "    }\n",
       "\n",
       "    .dataframe thead th {\n",
       "        text-align: right;\n",
       "    }\n",
       "</style>\n",
       "<table border=\"1\" class=\"dataframe\">\n",
       "  <thead>\n",
       "    <tr style=\"text-align: right;\">\n",
       "      <th></th>\n",
       "      <th>Postcode</th>\n",
       "      <th>Borough</th>\n",
       "      <th>Neighborhood</th>\n",
       "    </tr>\n",
       "  </thead>\n",
       "  <tbody>\n",
       "    <tr>\n",
       "      <th>0</th>\n",
       "      <td>M1A</td>\n",
       "      <td>Not assigned</td>\n",
       "      <td>Not assigned</td>\n",
       "    </tr>\n",
       "    <tr>\n",
       "      <th>1</th>\n",
       "      <td>M2A</td>\n",
       "      <td>Not assigned</td>\n",
       "      <td>Not assigned</td>\n",
       "    </tr>\n",
       "    <tr>\n",
       "      <th>2</th>\n",
       "      <td>M3A</td>\n",
       "      <td>North York</td>\n",
       "      <td>Parkwoods</td>\n",
       "    </tr>\n",
       "    <tr>\n",
       "      <th>3</th>\n",
       "      <td>M4A</td>\n",
       "      <td>North York</td>\n",
       "      <td>Victoria Village</td>\n",
       "    </tr>\n",
       "    <tr>\n",
       "      <th>4</th>\n",
       "      <td>M5A</td>\n",
       "      <td>Downtown Toronto</td>\n",
       "      <td>Harbourfront</td>\n",
       "    </tr>\n",
       "  </tbody>\n",
       "</table>\n",
       "</div>"
      ],
      "text/plain": [
       "  Postcode           Borough      Neighborhood\n",
       "0      M1A      Not assigned      Not assigned\n",
       "1      M2A      Not assigned      Not assigned\n",
       "2      M3A        North York         Parkwoods\n",
       "3      M4A        North York  Victoria Village\n",
       "4      M5A  Downtown Toronto      Harbourfront"
      ]
     },
     "execution_count": 5,
     "metadata": {},
     "output_type": "execute_result"
    }
   ],
   "source": [
    "#create list for later columns\n",
    "\n",
    "postcode = rowList[0::3]\n",
    "Borough = rowList[1::3]\n",
    "Neighb = rowList[2::3]\n",
    "\n",
    "#create a dictionary and from that the dataframe\n",
    "dfDict = {'Postcode':postcode,'Borough':Borough,'Neighborhood':Neighb}\n",
    "df = pd.DataFrame.from_dict(dfDict)\n",
    "df.head()"
   ]
  },
  {
   "cell_type": "code",
   "execution_count": 6,
   "metadata": {},
   "outputs": [
    {
     "data": {
      "text/html": [
       "<div>\n",
       "<style scoped>\n",
       "    .dataframe tbody tr th:only-of-type {\n",
       "        vertical-align: middle;\n",
       "    }\n",
       "\n",
       "    .dataframe tbody tr th {\n",
       "        vertical-align: top;\n",
       "    }\n",
       "\n",
       "    .dataframe thead th {\n",
       "        text-align: right;\n",
       "    }\n",
       "</style>\n",
       "<table border=\"1\" class=\"dataframe\">\n",
       "  <thead>\n",
       "    <tr style=\"text-align: right;\">\n",
       "      <th></th>\n",
       "      <th>Postcode</th>\n",
       "      <th>Borough</th>\n",
       "      <th>Neighborhood</th>\n",
       "    </tr>\n",
       "  </thead>\n",
       "  <tbody>\n",
       "    <tr>\n",
       "      <th>0</th>\n",
       "      <td>M1B</td>\n",
       "      <td>Scarborough</td>\n",
       "      <td>Rouge, Malvern</td>\n",
       "    </tr>\n",
       "    <tr>\n",
       "      <th>1</th>\n",
       "      <td>M1C</td>\n",
       "      <td>Scarborough</td>\n",
       "      <td>Highland Creek, Rouge Hill, Port Union</td>\n",
       "    </tr>\n",
       "    <tr>\n",
       "      <th>2</th>\n",
       "      <td>M1E</td>\n",
       "      <td>Scarborough</td>\n",
       "      <td>Guildwood, Morningside, West Hill</td>\n",
       "    </tr>\n",
       "    <tr>\n",
       "      <th>3</th>\n",
       "      <td>M1G</td>\n",
       "      <td>Scarborough</td>\n",
       "      <td>Woburn</td>\n",
       "    </tr>\n",
       "    <tr>\n",
       "      <th>4</th>\n",
       "      <td>M1H</td>\n",
       "      <td>Scarborough</td>\n",
       "      <td>Cedarbrae</td>\n",
       "    </tr>\n",
       "  </tbody>\n",
       "</table>\n",
       "</div>"
      ],
      "text/plain": [
       "  Postcode      Borough                            Neighborhood\n",
       "0      M1B  Scarborough                          Rouge, Malvern\n",
       "1      M1C  Scarborough  Highland Creek, Rouge Hill, Port Union\n",
       "2      M1E  Scarborough       Guildwood, Morningside, West Hill\n",
       "3      M1G  Scarborough                                  Woburn\n",
       "4      M1H  Scarborough                               Cedarbrae"
      ]
     },
     "execution_count": 6,
     "metadata": {},
     "output_type": "execute_result"
    }
   ],
   "source": [
    "#remove \"Not assigned\" Boroughs\n",
    "df = df[df.Borough != \"Not assigned\"]\n",
    "\n",
    "#join Neighborhoods by postcode\n",
    "df = df.groupby(['Postcode', 'Borough'], as_index = False)['Neighborhood'].agg(list)\n",
    "df['Neighborhood'] = df['Neighborhood'].str.join(', ')\n",
    "\n",
    "#replace \"Not assigned\" Neighborhood with Borough\n",
    "dfTest = df.copy()\n",
    "dfTest.iloc[:, 1:3] = dfTest.iloc[:, 1:3].where(df['Neighborhood'] != \"Not assigned\", df['Borough'], axis = 0)\n",
    "df = dfTest\n",
    "df.head()"
   ]
  },
  {
   "cell_type": "code",
   "execution_count": 7,
   "metadata": {},
   "outputs": [
    {
     "name": "stdout",
     "output_type": "stream",
     "text": [
      "The dataframe has 11 boroughs and 103 neighborhoods.\n"
     ]
    }
   ],
   "source": [
    "print('The dataframe has {} boroughs and {} neighborhoods.'.format(\n",
    "        len(df['Borough'].unique()),\n",
    "        df.shape[0]\n",
    "    )\n",
    ")"
   ]
  },
  {
   "cell_type": "code",
   "execution_count": 9,
   "metadata": {},
   "outputs": [
    {
     "data": {
      "text/html": [
       "<div>\n",
       "<style scoped>\n",
       "    .dataframe tbody tr th:only-of-type {\n",
       "        vertical-align: middle;\n",
       "    }\n",
       "\n",
       "    .dataframe tbody tr th {\n",
       "        vertical-align: top;\n",
       "    }\n",
       "\n",
       "    .dataframe thead th {\n",
       "        text-align: right;\n",
       "    }\n",
       "</style>\n",
       "<table border=\"1\" class=\"dataframe\">\n",
       "  <thead>\n",
       "    <tr style=\"text-align: right;\">\n",
       "      <th></th>\n",
       "      <th>Postal Code</th>\n",
       "      <th>Latitude</th>\n",
       "      <th>Longitude</th>\n",
       "    </tr>\n",
       "  </thead>\n",
       "  <tbody>\n",
       "    <tr>\n",
       "      <th>0</th>\n",
       "      <td>M1B</td>\n",
       "      <td>43.806686</td>\n",
       "      <td>-79.194353</td>\n",
       "    </tr>\n",
       "    <tr>\n",
       "      <th>1</th>\n",
       "      <td>M1C</td>\n",
       "      <td>43.784535</td>\n",
       "      <td>-79.160497</td>\n",
       "    </tr>\n",
       "    <tr>\n",
       "      <th>2</th>\n",
       "      <td>M1E</td>\n",
       "      <td>43.763573</td>\n",
       "      <td>-79.188711</td>\n",
       "    </tr>\n",
       "    <tr>\n",
       "      <th>3</th>\n",
       "      <td>M1G</td>\n",
       "      <td>43.770992</td>\n",
       "      <td>-79.216917</td>\n",
       "    </tr>\n",
       "    <tr>\n",
       "      <th>4</th>\n",
       "      <td>M1H</td>\n",
       "      <td>43.773136</td>\n",
       "      <td>-79.239476</td>\n",
       "    </tr>\n",
       "  </tbody>\n",
       "</table>\n",
       "</div>"
      ],
      "text/plain": [
       "  Postal Code   Latitude  Longitude\n",
       "0         M1B  43.806686 -79.194353\n",
       "1         M1C  43.784535 -79.160497\n",
       "2         M1E  43.763573 -79.188711\n",
       "3         M1G  43.770992 -79.216917\n",
       "4         M1H  43.773136 -79.239476"
      ]
     },
     "execution_count": 9,
     "metadata": {},
     "output_type": "execute_result"
    }
   ],
   "source": [
    "#load csv file with coordinates\n",
    "dfCoords = pd.read_csv('Geospatial_Coordinates.csv')\n",
    "dfCoords.head()"
   ]
  },
  {
   "cell_type": "code",
   "execution_count": 10,
   "metadata": {},
   "outputs": [
    {
     "data": {
      "text/html": [
       "<div>\n",
       "<style scoped>\n",
       "    .dataframe tbody tr th:only-of-type {\n",
       "        vertical-align: middle;\n",
       "    }\n",
       "\n",
       "    .dataframe tbody tr th {\n",
       "        vertical-align: top;\n",
       "    }\n",
       "\n",
       "    .dataframe thead th {\n",
       "        text-align: right;\n",
       "    }\n",
       "</style>\n",
       "<table border=\"1\" class=\"dataframe\">\n",
       "  <thead>\n",
       "    <tr style=\"text-align: right;\">\n",
       "      <th></th>\n",
       "      <th>Postcode</th>\n",
       "      <th>Borough</th>\n",
       "      <th>Neighborhood</th>\n",
       "      <th>Latitude</th>\n",
       "      <th>Longitude</th>\n",
       "    </tr>\n",
       "  </thead>\n",
       "  <tbody>\n",
       "    <tr>\n",
       "      <th>0</th>\n",
       "      <td>M1B</td>\n",
       "      <td>Scarborough</td>\n",
       "      <td>Rouge, Malvern</td>\n",
       "      <td>43.806686</td>\n",
       "      <td>-79.194353</td>\n",
       "    </tr>\n",
       "    <tr>\n",
       "      <th>1</th>\n",
       "      <td>M1C</td>\n",
       "      <td>Scarborough</td>\n",
       "      <td>Highland Creek, Rouge Hill, Port Union</td>\n",
       "      <td>43.784535</td>\n",
       "      <td>-79.160497</td>\n",
       "    </tr>\n",
       "    <tr>\n",
       "      <th>2</th>\n",
       "      <td>M1E</td>\n",
       "      <td>Scarborough</td>\n",
       "      <td>Guildwood, Morningside, West Hill</td>\n",
       "      <td>43.763573</td>\n",
       "      <td>-79.188711</td>\n",
       "    </tr>\n",
       "    <tr>\n",
       "      <th>3</th>\n",
       "      <td>M1G</td>\n",
       "      <td>Scarborough</td>\n",
       "      <td>Woburn</td>\n",
       "      <td>43.770992</td>\n",
       "      <td>-79.216917</td>\n",
       "    </tr>\n",
       "    <tr>\n",
       "      <th>4</th>\n",
       "      <td>M1H</td>\n",
       "      <td>Scarborough</td>\n",
       "      <td>Cedarbrae</td>\n",
       "      <td>43.773136</td>\n",
       "      <td>-79.239476</td>\n",
       "    </tr>\n",
       "  </tbody>\n",
       "</table>\n",
       "</div>"
      ],
      "text/plain": [
       "  Postcode      Borough                            Neighborhood   Latitude  \\\n",
       "0      M1B  Scarborough                          Rouge, Malvern  43.806686   \n",
       "1      M1C  Scarborough  Highland Creek, Rouge Hill, Port Union  43.784535   \n",
       "2      M1E  Scarborough       Guildwood, Morningside, West Hill  43.763573   \n",
       "3      M1G  Scarborough                                  Woburn  43.770992   \n",
       "4      M1H  Scarborough                               Cedarbrae  43.773136   \n",
       "\n",
       "   Longitude  \n",
       "0 -79.194353  \n",
       "1 -79.160497  \n",
       "2 -79.188711  \n",
       "3 -79.216917  \n",
       "4 -79.239476  "
      ]
     },
     "execution_count": 10,
     "metadata": {},
     "output_type": "execute_result"
    }
   ],
   "source": [
    "#join dataframes and drop additional Postal Codes column\n",
    "dfNew = pd.concat([df, dfCoords], axis = 1)\n",
    "dfFull = dfNew.drop([\"Postal Code\"], axis = 1)\n",
    "dfFull.head()"
   ]
  },
  {
   "cell_type": "code",
   "execution_count": null,
   "metadata": {},
   "outputs": [],
   "source": []
  }
 ],
 "metadata": {
  "kernelspec": {
   "display_name": "Python 3",
   "language": "python",
   "name": "python3"
  },
  "language_info": {
   "codemirror_mode": {
    "name": "ipython",
    "version": 3
   },
   "file_extension": ".py",
   "mimetype": "text/x-python",
   "name": "python",
   "nbconvert_exporter": "python",
   "pygments_lexer": "ipython3",
   "version": "3.7.1"
  }
 },
 "nbformat": 4,
 "nbformat_minor": 2
}
