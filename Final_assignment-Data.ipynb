{
 "cells": [
  {
   "cell_type": "markdown",
   "metadata": {},
   "source": [
    "# Introduction\n",
    "\n",
    "Gluten intolerance and other gluten-related sensitivities are becoming more and more prevalent. This is already reflected in the increase of gluten-free products offered in supermarkets. However, in everyday-life, gluten-sensitive people are still confronted with several difficulties. They can't just go to the bakery to buy a snack like almost every other person and they always have to take care not to accidentally eat gluten-containing food in restaurants. Ordering a Pizza is basically impossible, the very most pasta is wheat-based and most sauces and gravy are prepared using flour.\n",
    "Therefore, I am going to check Foursquare for restaurants that offer gluten-free dishes or are dedicated gluten-free in the city of Hamburg, Germany. Analyses of the Neighborhoods with numbers of restaurants in general and those offering gluten-free dishes will be of interest for persons that would want to open a dedicated gluten free restaurant and investors."
   ]
  },
  {
   "cell_type": "markdown",
   "metadata": {},
   "source": [
    "# Data\n",
    "I will use publicly available data to create a dataframe of the neighborhoods of Hamburg. This will be used to screen for gluten-free restaurant in Hamburg and screen for food places all together using the four-square API."
   ]
  },
  {
   "cell_type": "code",
   "execution_count": null,
   "metadata": {},
   "outputs": [],
   "source": []
  }
 ],
 "metadata": {
  "kernelspec": {
   "display_name": "Python 3",
   "language": "python",
   "name": "python3"
  },
  "language_info": {
   "codemirror_mode": {
    "name": "ipython",
    "version": 3
   },
   "file_extension": ".py",
   "mimetype": "text/x-python",
   "name": "python",
   "nbconvert_exporter": "python",
   "pygments_lexer": "ipython3",
   "version": "3.7.3"
  }
 },
 "nbformat": 4,
 "nbformat_minor": 2
}
